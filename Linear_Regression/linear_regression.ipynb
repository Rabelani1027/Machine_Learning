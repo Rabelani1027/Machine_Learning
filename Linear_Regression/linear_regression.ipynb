{
 "cells": [
  {
   "cell_type": "markdown",
   "id": "31616191-c825-4c1b-9109-b8440c5e1e9a",
   "metadata": {},
   "source": [
    "# Linear Regression"
   ]
  },
  {
   "cell_type": "markdown",
   "id": "87c5b64b-6858-4bbf-8d73-9414654026d5",
   "metadata": {},
   "source": [
    "In this notebook, We will be practicing Linear Regression using sample dataset."
   ]
  },
  {
   "cell_type": "markdown",
   "id": "dc994079-217a-428f-b15e-ed2736a2713f",
   "metadata": {},
   "source": [
    "### Importing Libraries"
   ]
  },
  {
   "cell_type": "code",
   "execution_count": 95,
   "id": "a0671246-129c-4a12-be27-a7ee411c3805",
   "metadata": {},
   "outputs": [],
   "source": [
    "import pandas as pd\n",
    "import numpy as np\n",
    "import matplotlib.pyplot as plt\n",
    "plt.style.use('fivethirtyeight')\n",
    "from sklearn.linear_model import LinearRegression\n",
    "from sklearn.model_selection import train_test_split\n",
    "from sklearn.metrics import r2_score"
   ]
  },
  {
   "cell_type": "markdown",
   "id": "99b002c6-c887-4bc8-8f3e-593b1e6e8d24",
   "metadata": {},
   "source": [
    "## Simple Linear Regression"
   ]
  },
  {
   "cell_type": "markdown",
   "id": "dc1e0bb5-1a03-4e95-a647-a085bf671fe1",
   "metadata": {},
   "source": [
    "### Creating Dataset"
   ]
  },
  {
   "cell_type": "code",
   "execution_count": 96,
   "id": "3b2d1d4a-e400-4751-9e49-1843378fdecf",
   "metadata": {},
   "outputs": [],
   "source": [
    "df_simple = pd.read_csv('advertising.csv',usecols=['TV','Sales'])"
   ]
  },
  {
   "cell_type": "code",
   "execution_count": 97,
   "id": "0f9a0bda-9f2a-4495-b29e-fe5048290e3a",
   "metadata": {},
   "outputs": [
    {
     "data": {
      "text/html": [
       "<div>\n",
       "<style scoped>\n",
       "    .dataframe tbody tr th:only-of-type {\n",
       "        vertical-align: middle;\n",
       "    }\n",
       "\n",
       "    .dataframe tbody tr th {\n",
       "        vertical-align: top;\n",
       "    }\n",
       "\n",
       "    .dataframe thead th {\n",
       "        text-align: right;\n",
       "    }\n",
       "</style>\n",
       "<table border=\"1\" class=\"dataframe\">\n",
       "  <thead>\n",
       "    <tr style=\"text-align: right;\">\n",
       "      <th></th>\n",
       "      <th>TV</th>\n",
       "      <th>Sales</th>\n",
       "    </tr>\n",
       "  </thead>\n",
       "  <tbody>\n",
       "    <tr>\n",
       "      <th>0</th>\n",
       "      <td>230.1</td>\n",
       "      <td>22.1</td>\n",
       "    </tr>\n",
       "    <tr>\n",
       "      <th>1</th>\n",
       "      <td>44.5</td>\n",
       "      <td>10.4</td>\n",
       "    </tr>\n",
       "    <tr>\n",
       "      <th>2</th>\n",
       "      <td>17.2</td>\n",
       "      <td>12.0</td>\n",
       "    </tr>\n",
       "    <tr>\n",
       "      <th>3</th>\n",
       "      <td>151.5</td>\n",
       "      <td>16.5</td>\n",
       "    </tr>\n",
       "    <tr>\n",
       "      <th>4</th>\n",
       "      <td>180.8</td>\n",
       "      <td>17.9</td>\n",
       "    </tr>\n",
       "  </tbody>\n",
       "</table>\n",
       "</div>"
      ],
      "text/plain": [
       "      TV  Sales\n",
       "0  230.1   22.1\n",
       "1   44.5   10.4\n",
       "2   17.2   12.0\n",
       "3  151.5   16.5\n",
       "4  180.8   17.9"
      ]
     },
     "execution_count": 97,
     "metadata": {},
     "output_type": "execute_result"
    }
   ],
   "source": [
    "df_simple.head()"
   ]
  },
  {
   "cell_type": "code",
   "execution_count": 98,
   "id": "7502af57-8a18-42f1-9095-7b14069d2e1f",
   "metadata": {},
   "outputs": [
    {
     "data": {
      "text/plain": [
       "(200, 2)"
      ]
     },
     "execution_count": 98,
     "metadata": {},
     "output_type": "execute_result"
    }
   ],
   "source": [
    "df_simple.shape"
   ]
  },
  {
   "cell_type": "code",
   "execution_count": 99,
   "id": "6db09709-2bde-4b47-b5fe-0bd1de19d503",
   "metadata": {},
   "outputs": [
    {
     "data": {
      "text/html": [
       "<div>\n",
       "<style scoped>\n",
       "    .dataframe tbody tr th:only-of-type {\n",
       "        vertical-align: middle;\n",
       "    }\n",
       "\n",
       "    .dataframe tbody tr th {\n",
       "        vertical-align: top;\n",
       "    }\n",
       "\n",
       "    .dataframe thead th {\n",
       "        text-align: right;\n",
       "    }\n",
       "</style>\n",
       "<table border=\"1\" class=\"dataframe\">\n",
       "  <thead>\n",
       "    <tr style=\"text-align: right;\">\n",
       "      <th></th>\n",
       "      <th>TV</th>\n",
       "      <th>Sales</th>\n",
       "    </tr>\n",
       "  </thead>\n",
       "  <tbody>\n",
       "    <tr>\n",
       "      <th>count</th>\n",
       "      <td>200.000000</td>\n",
       "      <td>200.000000</td>\n",
       "    </tr>\n",
       "    <tr>\n",
       "      <th>mean</th>\n",
       "      <td>147.042500</td>\n",
       "      <td>15.130500</td>\n",
       "    </tr>\n",
       "    <tr>\n",
       "      <th>std</th>\n",
       "      <td>85.854236</td>\n",
       "      <td>5.283892</td>\n",
       "    </tr>\n",
       "    <tr>\n",
       "      <th>min</th>\n",
       "      <td>0.700000</td>\n",
       "      <td>1.600000</td>\n",
       "    </tr>\n",
       "    <tr>\n",
       "      <th>25%</th>\n",
       "      <td>74.375000</td>\n",
       "      <td>11.000000</td>\n",
       "    </tr>\n",
       "    <tr>\n",
       "      <th>50%</th>\n",
       "      <td>149.750000</td>\n",
       "      <td>16.000000</td>\n",
       "    </tr>\n",
       "    <tr>\n",
       "      <th>75%</th>\n",
       "      <td>218.825000</td>\n",
       "      <td>19.050000</td>\n",
       "    </tr>\n",
       "    <tr>\n",
       "      <th>max</th>\n",
       "      <td>296.400000</td>\n",
       "      <td>27.000000</td>\n",
       "    </tr>\n",
       "  </tbody>\n",
       "</table>\n",
       "</div>"
      ],
      "text/plain": [
       "               TV       Sales\n",
       "count  200.000000  200.000000\n",
       "mean   147.042500   15.130500\n",
       "std     85.854236    5.283892\n",
       "min      0.700000    1.600000\n",
       "25%     74.375000   11.000000\n",
       "50%    149.750000   16.000000\n",
       "75%    218.825000   19.050000\n",
       "max    296.400000   27.000000"
      ]
     },
     "execution_count": 99,
     "metadata": {},
     "output_type": "execute_result"
    }
   ],
   "source": [
    "df_simple.describe()"
   ]
  },
  {
   "cell_type": "code",
   "execution_count": 100,
   "id": "72386742-8298-47b2-b343-70155461e2d8",
   "metadata": {},
   "outputs": [
    {
     "data": {
      "text/plain": [
       "TV       0\n",
       "Sales    0\n",
       "dtype: int64"
      ]
     },
     "execution_count": 100,
     "metadata": {},
     "output_type": "execute_result"
    }
   ],
   "source": [
    "df_simple.isnull().sum()"
   ]
  },
  {
   "cell_type": "code",
   "execution_count": 101,
   "id": "1e353e3b-daa9-4fd0-b7b8-37facbc9cd60",
   "metadata": {},
   "outputs": [],
   "source": [
    "lr = LinearRegression()"
   ]
  },
  {
   "cell_type": "code",
   "execution_count": 102,
   "id": "459d3658-0728-4eba-97af-07d15cd591ec",
   "metadata": {},
   "outputs": [],
   "source": [
    "X = df_simple[[\"TV\"]]\n",
    "y = df_simple[\"Sales\"]"
   ]
  },
  {
   "cell_type": "markdown",
   "id": "5df074d0-cd3a-4ee8-bbb6-7b88d4ac54c9",
   "metadata": {},
   "source": [
    "### Train Test Split"
   ]
  },
  {
   "cell_type": "code",
   "execution_count": 103,
   "id": "ddbc3d77-e0c7-431e-b20e-97758d45d147",
   "metadata": {},
   "outputs": [],
   "source": [
    "X_train, X_test, y_train, y_test = train_test_split(X, y, test_size=0.25, random_state=42)"
   ]
  },
  {
   "cell_type": "code",
   "execution_count": 104,
   "id": "f7904ca5-de8d-4c14-924f-a2abdfe06607",
   "metadata": {},
   "outputs": [
    {
     "data": {
      "text/plain": [
       "LinearRegression()"
      ]
     },
     "execution_count": 104,
     "metadata": {},
     "output_type": "execute_result"
    }
   ],
   "source": [
    "lr.fit(X_train,y_train)"
   ]
  },
  {
   "cell_type": "code",
   "execution_count": 105,
   "id": "53e9d4fa-c0b4-4dce-b3dc-991b58449a7e",
   "metadata": {},
   "outputs": [],
   "source": [
    "y_pred = lr.predict(X_test)"
   ]
  },
  {
   "cell_type": "code",
   "execution_count": 106,
   "id": "e08a309f-5736-4e3f-98e9-74aea632c6ba",
   "metadata": {},
   "outputs": [
    {
     "data": {
      "image/png": "[encoded data removed]",
      "text/plain": [
       "<Figure size 432x288 with 1 Axes>"
      ]
     },
     "metadata": {},
     "output_type": "display_data"
    }
   ],
   "source": [
    "plt.scatter(X_test, y_test, color = \"red\")\n",
    "plt.plot(X_test, lr.predict(X_test), color = \"green\")\n",
    "plt.title(\"Sales vs TV spending \")\n",
    "plt.xlabel(\"Sales\")\n",
    "plt.ylabel(\"TV\")\n",
    "plt.xticks(rotation=90)\n",
    "plt.show()"
   ]
  },
  {
   "cell_type": "markdown",
   "id": "a2c45e3e-7d34-4c4c-ac36-72e9d2ee01a0",
   "metadata": {},
   "source": [
    "### R Squared Score"
   ]
  },
  {
   "cell_type": "code",
   "execution_count": 107,
   "id": "f0a1ed5d-51ed-4610-ac58-0db2b1e204da",
   "metadata": {},
   "outputs": [
    {
     "name": "stdout",
     "output_type": "stream",
     "text": [
      "R2 Score is : 79.7 %\n"
     ]
    }
   ],
   "source": [
    "print(\"R2 Score is :\",round(r2_score(y_test,y_pred),3)*100,\"%\")"
   ]
  },
  {
   "cell_type": "markdown",
   "id": "06d0ce70-52cf-49be-a71d-14e7356a0d59",
   "metadata": {},
   "source": [
    "#### *Simple Linear Regression Formula* : **y = b0 + b1 * x1**"
   ]
  },
  {
   "cell_type": "markdown",
   "id": "4766f267-61c2-48e9-bba6-283c9540c744",
   "metadata": {},
   "source": [
    "The simple linear regression model is essentially a linear equation of the form y = b0 + b1*x1; where y is the dependent variable (outcome), x1 is the independent variable (predictor), b1 is the slope of the line; also known as regression coefficient and b0 is the intercept; labeled as constant."
   ]
  },
  {
   "cell_type": "markdown",
   "id": "b671ab51-cdad-4335-ac5f-fc93ebd9bfa8",
   "metadata": {},
   "source": [
    "#### Finding Intercept and Coefficient"
   ]
  },
  {
   "cell_type": "code",
   "execution_count": 108,
   "id": "0ef3e3e8-c79e-4405-bf83-a92a9e842128",
   "metadata": {},
   "outputs": [
    {
     "data": {
      "text/plain": [
       "7.098853680118275"
      ]
     },
     "execution_count": 108,
     "metadata": {},
     "output_type": "execute_result"
    }
   ],
   "source": [
    "lr.intercept_"
   ]
  },
  {
   "cell_type": "code",
   "execution_count": 109,
   "id": "910c518d-afc8-4f15-b4e0-b9f6f5994fb3",
   "metadata": {},
   "outputs": [
    {
     "data": {
      "text/plain": [
       "0.05538653085519158"
      ]
     },
     "execution_count": 109,
     "metadata": {},
     "output_type": "execute_result"
    }
   ],
   "source": [
    "lr.coef_[0]"
   ]
  },
  {
   "cell_type": "markdown",
   "id": "ff544618-9c96-4e0a-8c65-5f6b12c74f34",
   "metadata": {},
   "source": [
    "- Let's find out sales number if we spend **300 $** on TV advertising"
   ]
  },
  {
   "cell_type": "markdown",
   "id": "b5a5dd71-f4b7-49a3-a836-73886618a049",
   "metadata": {},
   "source": [
    "**by using our Simple Linear Regression**"
   ]
  },
  {
   "cell_type": "code",
   "execution_count": 110,
   "id": "56ecf7db-9087-4ae4-8247-ddfa1123680e",
   "metadata": {},
   "outputs": [
    {
     "name": "stdout",
     "output_type": "stream",
     "text": [
      "Predicted Sales : 23.71\n"
     ]
    }
   ],
   "source": [
    "print(\"Predicted Sales :\",round(lr.predict([[300]])[0],2))"
   ]
  },
  {
   "cell_type": "markdown",
   "id": "d1e5d5de-e083-4c29-97ad-0493893ac7ea",
   "metadata": {},
   "source": [
    "**by using ıntercept and coefficient**"
   ]
  },
  {
   "cell_type": "markdown",
   "id": "eb5dbc6f-c88c-4fdc-8e1a-504976160cbd",
   "metadata": {},
   "source": [
    "Recall the equation is y = b_0 + b_1 * x1"
   ]
  },
  {
   "cell_type": "markdown",
   "id": "8126620c-1137-4454-9f3d-734744e7353c",
   "metadata": {},
   "source": [
    "Let's put each value into the equationm"
   ]
  },
  {
   "cell_type": "code",
   "execution_count": 111,
   "id": "9c4b454b-d758-4e2c-ad64-f57ab4fe0d31",
   "metadata": {},
   "outputs": [],
   "source": [
    "y = lr.intercept_ + lr.coef_* 300"
   ]
  },
  {
   "cell_type": "code",
   "execution_count": 112,
   "id": "0dee3ef7-f0b6-4733-8c86-f6a0caea4229",
   "metadata": {},
   "outputs": [
    {
     "name": "stdout",
     "output_type": "stream",
     "text": [
      "Predicted Sales : 23.71\n"
     ]
    }
   ],
   "source": [
    "print(\"Predicted Sales :\",round(y[0],2))"
   ]
  },
  {
   "cell_type": "markdown",
   "id": "279364e9-4535-4335-837b-f11d3c6d72db",
   "metadata": {},
   "source": [
    "- We see the same value as you can see above . Linear regression does the same job for each observation."
   ]
  },
  {
   "cell_type": "markdown",
   "id": "874c8fb1-afd3-4d45-9d2f-eb98d029e5c6",
   "metadata": {},
   "source": [
    "## Multiple Linear Regression"
   ]
  },
  {
   "cell_type": "code",
   "execution_count": 113,
   "id": "e16b849a-1217-440e-8eb6-bcde6bd015cf",
   "metadata": {},
   "outputs": [],
   "source": [
    "df_multiple = pd.read_csv('advertising.csv')"
   ]
  },
  {
   "cell_type": "code",
   "execution_count": 114,
   "id": "b1117ec5-0676-48df-8a74-7f24e70b01ee",
   "metadata": {},
   "outputs": [
    {
     "data": {
      "text/html": [
       "<div>\n",
       "<style scoped>\n",
       "    .dataframe tbody tr th:only-of-type {\n",
       "        vertical-align: middle;\n",
       "    }\n",
       "\n",
       "    .dataframe tbody tr th {\n",
       "        vertical-align: top;\n",
       "    }\n",
       "\n",
       "    .dataframe thead th {\n",
       "        text-align: right;\n",
       "    }\n",
       "</style>\n",
       "<table border=\"1\" class=\"dataframe\">\n",
       "  <thead>\n",
       "    <tr style=\"text-align: right;\">\n",
       "      <th></th>\n",
       "      <th>TV</th>\n",
       "      <th>Radio</th>\n",
       "      <th>Newspaper</th>\n",
       "      <th>Sales</th>\n",
       "    </tr>\n",
       "  </thead>\n",
       "  <tbody>\n",
       "    <tr>\n",
       "      <th>0</th>\n",
       "      <td>230.1</td>\n",
       "      <td>37.8</td>\n",
       "      <td>69.2</td>\n",
       "      <td>22.1</td>\n",
       "    </tr>\n",
       "    <tr>\n",
       "      <th>1</th>\n",
       "      <td>44.5</td>\n",
       "      <td>39.3</td>\n",
       "      <td>45.1</td>\n",
       "      <td>10.4</td>\n",
       "    </tr>\n",
       "    <tr>\n",
       "      <th>2</th>\n",
       "      <td>17.2</td>\n",
       "      <td>45.9</td>\n",
       "      <td>69.3</td>\n",
       "      <td>12.0</td>\n",
       "    </tr>\n",
       "    <tr>\n",
       "      <th>3</th>\n",
       "      <td>151.5</td>\n",
       "      <td>41.3</td>\n",
       "      <td>58.5</td>\n",
       "      <td>16.5</td>\n",
       "    </tr>\n",
       "    <tr>\n",
       "      <th>4</th>\n",
       "      <td>180.8</td>\n",
       "      <td>10.8</td>\n",
       "      <td>58.4</td>\n",
       "      <td>17.9</td>\n",
       "    </tr>\n",
       "  </tbody>\n",
       "</table>\n",
       "</div>"
      ],
      "text/plain": [
       "      TV  Radio  Newspaper  Sales\n",
       "0  230.1   37.8       69.2   22.1\n",
       "1   44.5   39.3       45.1   10.4\n",
       "2   17.2   45.9       69.3   12.0\n",
       "3  151.5   41.3       58.5   16.5\n",
       "4  180.8   10.8       58.4   17.9"
      ]
     },
     "execution_count": 114,
     "metadata": {},
     "output_type": "execute_result"
    }
   ],
   "source": [
    "df_multiple.head()"
   ]
  },
  {
   "cell_type": "code",
   "execution_count": 115,
   "id": "5e593e4c-a325-4ef0-9753-399414534ca8",
   "metadata": {},
   "outputs": [
    {
     "data": {
      "text/html": [
       "<div>\n",
       "<style scoped>\n",
       "    .dataframe tbody tr th:only-of-type {\n",
       "        vertical-align: middle;\n",
       "    }\n",
       "\n",
       "    .dataframe tbody tr th {\n",
       "        vertical-align: top;\n",
       "    }\n",
       "\n",
       "    .dataframe thead th {\n",
       "        text-align: right;\n",
       "    }\n",
       "</style>\n",
       "<table border=\"1\" class=\"dataframe\">\n",
       "  <thead>\n",
       "    <tr style=\"text-align: right;\">\n",
       "      <th></th>\n",
       "      <th>TV</th>\n",
       "      <th>Radio</th>\n",
       "      <th>Newspaper</th>\n",
       "      <th>Sales</th>\n",
       "    </tr>\n",
       "  </thead>\n",
       "  <tbody>\n",
       "    <tr>\n",
       "      <th>count</th>\n",
       "      <td>200.000000</td>\n",
       "      <td>200.000000</td>\n",
       "      <td>200.000000</td>\n",
       "      <td>200.000000</td>\n",
       "    </tr>\n",
       "    <tr>\n",
       "      <th>mean</th>\n",
       "      <td>147.042500</td>\n",
       "      <td>23.264000</td>\n",
       "      <td>30.554000</td>\n",
       "      <td>15.130500</td>\n",
       "    </tr>\n",
       "    <tr>\n",
       "      <th>std</th>\n",
       "      <td>85.854236</td>\n",
       "      <td>14.846809</td>\n",
       "      <td>21.778621</td>\n",
       "      <td>5.283892</td>\n",
       "    </tr>\n",
       "    <tr>\n",
       "      <th>min</th>\n",
       "      <td>0.700000</td>\n",
       "      <td>0.000000</td>\n",
       "      <td>0.300000</td>\n",
       "      <td>1.600000</td>\n",
       "    </tr>\n",
       "    <tr>\n",
       "      <th>25%</th>\n",
       "      <td>74.375000</td>\n",
       "      <td>9.975000</td>\n",
       "      <td>12.750000</td>\n",
       "      <td>11.000000</td>\n",
       "    </tr>\n",
       "    <tr>\n",
       "      <th>50%</th>\n",
       "      <td>149.750000</td>\n",
       "      <td>22.900000</td>\n",
       "      <td>25.750000</td>\n",
       "      <td>16.000000</td>\n",
       "    </tr>\n",
       "    <tr>\n",
       "      <th>75%</th>\n",
       "      <td>218.825000</td>\n",
       "      <td>36.525000</td>\n",
       "      <td>45.100000</td>\n",
       "      <td>19.050000</td>\n",
       "    </tr>\n",
       "    <tr>\n",
       "      <th>max</th>\n",
       "      <td>296.400000</td>\n",
       "      <td>49.600000</td>\n",
       "      <td>114.000000</td>\n",
       "      <td>27.000000</td>\n",
       "    </tr>\n",
       "  </tbody>\n",
       "</table>\n",
       "</div>"
      ],
      "text/plain": [
       "               TV       Radio   Newspaper       Sales\n",
       "count  200.000000  200.000000  200.000000  200.000000\n",
       "mean   147.042500   23.264000   30.554000   15.130500\n",
       "std     85.854236   14.846809   21.778621    5.283892\n",
       "min      0.700000    0.000000    0.300000    1.600000\n",
       "25%     74.375000    9.975000   12.750000   11.000000\n",
       "50%    149.750000   22.900000   25.750000   16.000000\n",
       "75%    218.825000   36.525000   45.100000   19.050000\n",
       "max    296.400000   49.600000  114.000000   27.000000"
      ]
     },
     "execution_count": 115,
     "metadata": {},
     "output_type": "execute_result"
    }
   ],
   "source": [
    "df_multiple.describe()"
   ]
  },
  {
   "cell_type": "markdown",
   "id": "2d50cb82-e2e1-4c76-93e9-af054c2b0493",
   "metadata": {},
   "source": [
    "### Missing Values"
   ]
  },
  {
   "cell_type": "code",
   "execution_count": 116,
   "id": "d983c620-5f8f-41d2-93cc-4537bd655cb7",
   "metadata": {},
   "outputs": [
    {
     "data": {
      "text/plain": [
       "TV           0\n",
       "Radio        0\n",
       "Newspaper    0\n",
       "Sales        0\n",
       "dtype: int64"
      ]
     },
     "execution_count": 116,
     "metadata": {},
     "output_type": "execute_result"
    }
   ],
   "source": [
    "df_multiple.isnull().sum()"
   ]
  },
  {
   "cell_type": "code",
   "execution_count": 117,
   "id": "8bd9cea9-f332-4904-8127-44c836350aaf",
   "metadata": {},
   "outputs": [],
   "source": [
    "X = df_multiple[[\"TV\",\"Radio\",\"Newspaper\"]]\n",
    "y = df_multiple[\"Sales\"]"
   ]
  },
  {
   "cell_type": "code",
   "execution_count": 118,
   "id": "de1b38a7-68c2-4f76-8474-4b23ab8a5bdd",
   "metadata": {},
   "outputs": [],
   "source": [
    "X_train, X_test, y_train, y_test = train_test_split(X, y, test_size=0.25, random_state=42)"
   ]
  },
  {
   "cell_type": "code",
   "execution_count": 119,
   "id": "9fed873b-886b-4dcb-a12b-ca71a76044b4",
   "metadata": {},
   "outputs": [],
   "source": [
    "lr = LinearRegression()"
   ]
  },
  {
   "cell_type": "code",
   "execution_count": 120,
   "id": "634a67d7-eca2-4b1a-b634-e5b903c40697",
   "metadata": {},
   "outputs": [
    {
     "data": {
      "text/plain": [
       "LinearRegression()"
      ]
     },
     "execution_count": 120,
     "metadata": {},
     "output_type": "execute_result"
    }
   ],
   "source": [
    "lr.fit(X_train,y_train)"
   ]
  },
  {
   "cell_type": "markdown",
   "id": "b879901f-4c8f-4a03-9861-1ec2d3da4211",
   "metadata": {},
   "source": [
    "### Interpreting Results with Adjusted R Squared"
   ]
  },
  {
   "cell_type": "markdown",
   "id": "fc80af43-ac6e-4460-84a2-dbe656e3494e",
   "metadata": {},
   "source": [
    "- We already know how R Squared can help us in Model Evaluation. However, there is one major disadvantage of using R Squared. The value of R Squared never decreases. If you are wondering why does it need to decrease since it will only result in a  bad model, there is a catch, adding new independent variables will result in an increased value of R Squared. This is a major flow as R Squared will suggest that adding new variables irrespective of whether they are really significant or not, will increase the value."
   ]
  },
  {
   "cell_type": "code",
   "execution_count": 122,
   "id": "642f9426-146c-4836-8d08-2f3f271d076f",
   "metadata": {},
   "outputs": [],
   "source": [
    "y_pred = lr.predict(X_test)"
   ]
  },
  {
   "cell_type": "code",
   "execution_count": 123,
   "id": "262d95e8-809a-4ec5-942b-d9b859b3a88f",
   "metadata": {},
   "outputs": [],
   "source": [
    "r_squared = r2_score(y_test,y_pred)"
   ]
  },
  {
   "cell_type": "code",
   "execution_count": 135,
   "id": "5cabde16-0806-4ab5-ae3b-f26280f39201",
   "metadata": {},
   "outputs": [],
   "source": [
    "adjusted_r_squared = 1 - (1-r_squared)*(len(y)-1)/(len(y)-X.shape[1]-1)"
   ]
  },
  {
   "cell_type": "code",
   "execution_count": 136,
   "id": "f0af650f-1780-4da9-b27a-32980470a1ef",
   "metadata": {},
   "outputs": [
    {
     "name": "stdout",
     "output_type": "stream",
     "text": [
      "Adjusted R Squared: % 91.02 R Squared: % 91.16\n"
     ]
    }
   ],
   "source": [
    "print('Adjusted R Squared: %',round(adjusted_r_squared*100,2), 'R Squared: %',round(r_squared*100,2))"
   ]
  },
  {
   "cell_type": "markdown",
   "id": "c81708fc-df9a-4efb-a288-b22164f325b8",
   "metadata": {},
   "source": [
    "#### *Multiple Linear Regression Formula* : **y = b0 + b1 * x1  + b2 * x2  + b3 * x3**"
   ]
  },
  {
   "cell_type": "code",
   "execution_count": 38,
   "id": "307121cf-e6c0-4e8a-b5c8-d909c98ed5bb",
   "metadata": {},
   "outputs": [
    {
     "name": "stdout",
     "output_type": "stream",
     "text": [
      "Intercept is  4.741842244124566 and Coefficients are [0.05461383 0.09975946 0.00430495]\n"
     ]
    }
   ],
   "source": [
    "print(\"Intercept is \",lr.intercept_,\"and Coefficients are\", lr.coef_)"
   ]
  },
  {
   "cell_type": "code",
   "execution_count": 39,
   "id": "1e77e514-f585-4727-acc3-650583093774",
   "metadata": {},
   "outputs": [
    {
     "data": {
      "text/plain": [
       "array([0.05461383, 0.09975946, 0.00430495])"
      ]
     },
     "execution_count": 39,
     "metadata": {},
     "output_type": "execute_result"
    }
   ],
   "source": [
    "lr.coef_"
   ]
  },
  {
   "cell_type": "markdown",
   "id": "fbb00053-f24e-44e7-8663-de6202b438a2",
   "metadata": {},
   "source": [
    "- Coefficient for TV : **0.05444578**\n",
    "- Coefficient for Radio : **0.10700123**\n",
    "-  Coefficient for Newspaper : **0.00033566**"
   ]
  },
  {
   "cell_type": "markdown",
   "id": "db0fde35-d411-44f4-9274-36a14220d17b",
   "metadata": {},
   "source": [
    "#### Let's find out how many units we will sell if we spend ;\n",
    "- 200 Dollars on TV advertising\n",
    "- 50  Dollars on Radio\n",
    "- 20  Dollars on Newspaper"
   ]
  },
  {
   "cell_type": "markdown",
   "id": "130e8835-2e4d-4ab3-abd0-fb132fc917de",
   "metadata": {},
   "source": [
    "**by using our Linear Regression**"
   ]
  },
  {
   "cell_type": "code",
   "execution_count": 40,
   "id": "72ababec-43e5-46b9-875c-bef0229be2a1",
   "metadata": {},
   "outputs": [
    {
     "data": {
      "text/plain": [
       "20.74"
      ]
     },
     "execution_count": 40,
     "metadata": {},
     "output_type": "execute_result"
    }
   ],
   "source": [
    "round(lr.predict([[200,50,20]])[0],2)"
   ]
  },
  {
   "cell_type": "markdown",
   "id": "a6bde7ab-f3c8-4479-9e41-f455f1f5fb71",
   "metadata": {},
   "source": [
    "**by using ıntercept and coefficients**"
   ]
  },
  {
   "cell_type": "code",
   "execution_count": 29,
   "id": "60558c34-2c23-4592-949f-b867c5cfcb23",
   "metadata": {},
   "outputs": [],
   "source": [
    "y = lr.intercept_ + lr.coef_[0] * 200 + lr.coef_[1] * 50 + lr.coef_[2] * 20"
   ]
  },
  {
   "cell_type": "code",
   "execution_count": 30,
   "id": "2835c78a-cc68-4587-8655-725e9cf1cc49",
   "metadata": {},
   "outputs": [
    {
     "data": {
      "text/plain": [
       "20.74"
      ]
     },
     "execution_count": 30,
     "metadata": {},
     "output_type": "execute_result"
    }
   ],
   "source": [
    "round(y,2)"
   ]
  },
  {
   "cell_type": "markdown",
   "id": "2162e402-3c66-4e2b-9d57-d489bd2f7fe4",
   "metadata": {},
   "source": [
    "### Thank you ###\n",
    "*Hope this notebook helped you understand Linear Regression*"
   ]
  },
  {
   "cell_type": "markdown",
   "id": "325d5849-b009-4b53-a532-53954e4e0637",
   "metadata": {},
   "source": [
    "#### **Ugur Savci**\n",
    "\n",
    "#### *Let's connect* !\n",
    "\n",
    "#### [Linkedin](https://www.linkedin.com/in/ugur-savci/) |  [Medium](https://medium.com/@ugursavci)"
   ]
  },
  {
   "cell_type": "code",
   "execution_count": null,
   "id": "12edd836-7a2c-41a8-851d-9566200262bd",
   "metadata": {},
   "outputs": [],
   "source": []
  }
 ],
 "metadata": {
  "kernelspec": {
   "display_name": "Python 3",
   "language": "python",
   "name": "python3"
  },
  "language_info": {
   "codemirror_mode": {
    "name": "ipython",
    "version": 3
   },
   "file_extension": ".py",
   "mimetype": "text/x-python",
   "name": "python",
   "nbconvert_exporter": "python",
   "pygments_lexer": "ipython3",
   "version": "3.8.8"
  }
 },
 "nbformat": 4,
 "nbformat_minor": 5
}

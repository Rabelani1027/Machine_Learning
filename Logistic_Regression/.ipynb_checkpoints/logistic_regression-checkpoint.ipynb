{
 "cells": [
  {
   "cell_type": "markdown",
   "id": "ac122bdf-9b8d-48f4-a8f1-5cffeda7d103",
   "metadata": {},
   "source": [
    "# Logistic Regression"
   ]
  },
  {
   "cell_type": "markdown",
   "id": "0964990b-4ba7-43f1-96d9-234b726f3de5",
   "metadata": {},
   "source": [
    "### Importing Libraries"
   ]
  },
  {
   "cell_type": "code",
   "execution_count": 31,
   "id": "6be94a7e-0253-450d-9f69-4f7f094308f1",
   "metadata": {},
   "outputs": [],
   "source": [
    "import pandas as pd\n",
    "import numpy as np\n",
    "import seaborn as sns\n",
    "import matplotlib.pyplot as plt\n",
    "plt.style.use('ggplot')\n",
    "from sklearn.linear_model import LogisticRegression\n",
    "from sklearn.model_selection import train_test_split\n",
    "from sklearn.metrics import confusion_matrix,precision_score,recall_score,f1_score,accuracy_score,classification_report\n",
    "from sklearn.preprocessing import StandardScaler"
   ]
  },
  {
   "cell_type": "markdown",
   "id": "2b71239b-2842-4f20-ad32-a5f1ab65b109",
   "metadata": {},
   "source": [
    "### Importing Data "
   ]
  },
  {
   "cell_type": "code",
   "execution_count": 32,
   "id": "f46169ac-1d41-47bb-9f96-dca2aa46cced",
   "metadata": {},
   "outputs": [],
   "source": [
    "df = pd.read_csv('churndata.csv',usecols=['Churn','MonthlyCharge','OverageFee','AccountWeeks','DataUsage'])"
   ]
  },
  {
   "cell_type": "markdown",
   "id": "49828a3f-c41b-471c-aa0a-6ef99c96f69d",
   "metadata": {},
   "source": [
    "### Data Understanding"
   ]
  },
  {
   "cell_type": "code",
   "execution_count": 33,
   "id": "bd573a53-c250-4ade-9734-4fdcf5720742",
   "metadata": {},
   "outputs": [
    {
     "data": {
      "text/html": [
       "<div>\n",
       "<style scoped>\n",
       "    .dataframe tbody tr th:only-of-type {\n",
       "        vertical-align: middle;\n",
       "    }\n",
       "\n",
       "    .dataframe tbody tr th {\n",
       "        vertical-align: top;\n",
       "    }\n",
       "\n",
       "    .dataframe thead th {\n",
       "        text-align: right;\n",
       "    }\n",
       "</style>\n",
       "<table border=\"1\" class=\"dataframe\">\n",
       "  <thead>\n",
       "    <tr style=\"text-align: right;\">\n",
       "      <th></th>\n",
       "      <th>AccountWeeks</th>\n",
       "      <th>DataUsage</th>\n",
       "      <th>MonthlyCharge</th>\n",
       "      <th>OverageFee</th>\n",
       "      <th>Churn</th>\n",
       "    </tr>\n",
       "  </thead>\n",
       "  <tbody>\n",
       "    <tr>\n",
       "      <th>count</th>\n",
       "      <td>1173.000000</td>\n",
       "      <td>1173.000000</td>\n",
       "      <td>1173.000000</td>\n",
       "      <td>1173.000000</td>\n",
       "      <td>1173.000000</td>\n",
       "    </tr>\n",
       "    <tr>\n",
       "      <th>mean</th>\n",
       "      <td>101.922421</td>\n",
       "      <td>0.765985</td>\n",
       "      <td>57.805627</td>\n",
       "      <td>10.244356</td>\n",
       "      <td>0.411765</td>\n",
       "    </tr>\n",
       "    <tr>\n",
       "      <th>std</th>\n",
       "      <td>39.043163</td>\n",
       "      <td>1.274322</td>\n",
       "      <td>16.363619</td>\n",
       "      <td>2.575338</td>\n",
       "      <td>0.492363</td>\n",
       "    </tr>\n",
       "    <tr>\n",
       "      <th>min</th>\n",
       "      <td>1.000000</td>\n",
       "      <td>0.000000</td>\n",
       "      <td>14.000000</td>\n",
       "      <td>1.560000</td>\n",
       "      <td>0.000000</td>\n",
       "    </tr>\n",
       "    <tr>\n",
       "      <th>25%</th>\n",
       "      <td>76.000000</td>\n",
       "      <td>0.000000</td>\n",
       "      <td>45.000000</td>\n",
       "      <td>8.460000</td>\n",
       "      <td>0.000000</td>\n",
       "    </tr>\n",
       "    <tr>\n",
       "      <th>50%</th>\n",
       "      <td>102.000000</td>\n",
       "      <td>0.000000</td>\n",
       "      <td>56.000000</td>\n",
       "      <td>10.280000</td>\n",
       "      <td>0.000000</td>\n",
       "    </tr>\n",
       "    <tr>\n",
       "      <th>75%</th>\n",
       "      <td>127.000000</td>\n",
       "      <td>0.450000</td>\n",
       "      <td>68.000000</td>\n",
       "      <td>11.980000</td>\n",
       "      <td>1.000000</td>\n",
       "    </tr>\n",
       "    <tr>\n",
       "      <th>max</th>\n",
       "      <td>232.000000</td>\n",
       "      <td>5.400000</td>\n",
       "      <td>110.000000</td>\n",
       "      <td>18.190000</td>\n",
       "      <td>1.000000</td>\n",
       "    </tr>\n",
       "  </tbody>\n",
       "</table>\n",
       "</div>"
      ],
      "text/plain": [
       "       AccountWeeks    DataUsage  MonthlyCharge   OverageFee        Churn\n",
       "count   1173.000000  1173.000000    1173.000000  1173.000000  1173.000000\n",
       "mean     101.922421     0.765985      57.805627    10.244356     0.411765\n",
       "std       39.043163     1.274322      16.363619     2.575338     0.492363\n",
       "min        1.000000     0.000000      14.000000     1.560000     0.000000\n",
       "25%       76.000000     0.000000      45.000000     8.460000     0.000000\n",
       "50%      102.000000     0.000000      56.000000    10.280000     0.000000\n",
       "75%      127.000000     0.450000      68.000000    11.980000     1.000000\n",
       "max      232.000000     5.400000     110.000000    18.190000     1.000000"
      ]
     },
     "execution_count": 33,
     "metadata": {},
     "output_type": "execute_result"
    }
   ],
   "source": [
    "df.describe()"
   ]
  },
  {
   "cell_type": "code",
   "execution_count": 34,
   "id": "1b685d62-b334-4dff-803b-d874d84494c1",
   "metadata": {},
   "outputs": [
    {
     "name": "stdout",
     "output_type": "stream",
     "text": [
      "<class 'pandas.core.frame.DataFrame'>\n",
      "RangeIndex: 1173 entries, 0 to 1172\n",
      "Data columns (total 5 columns):\n",
      " #   Column         Non-Null Count  Dtype  \n",
      "---  ------         --------------  -----  \n",
      " 0   AccountWeeks   1173 non-null   int64  \n",
      " 1   DataUsage      1173 non-null   float64\n",
      " 2   MonthlyCharge  1173 non-null   float64\n",
      " 3   OverageFee     1173 non-null   float64\n",
      " 4   Churn          1173 non-null   int64  \n",
      "dtypes: float64(3), int64(2)\n",
      "memory usage: 45.9 KB\n"
     ]
    }
   ],
   "source": [
    "df.info()"
   ]
  },
  {
   "cell_type": "markdown",
   "id": "b15f4ff7-8797-415d-846d-884a0b8a961f",
   "metadata": {},
   "source": [
    "### Building Model"
   ]
  },
  {
   "cell_type": "code",
   "execution_count": 35,
   "id": "a5b62f1b-458b-484e-8644-3ffc75921d8e",
   "metadata": {},
   "outputs": [],
   "source": [
    "X = df.drop('Churn',axis=1)\n",
    "y = df['Churn']"
   ]
  },
  {
   "cell_type": "code",
   "execution_count": 36,
   "id": "c01ca515-fa00-453f-8c32-826ef3c0e5c8",
   "metadata": {},
   "outputs": [],
   "source": [
    "X_train, X_test, y_train, y_test = train_test_split(X, y, test_size=0.20, random_state=42)"
   ]
  },
  {
   "cell_type": "markdown",
   "id": "0a8d2945-3d8c-4b47-ac58-dd56be77a954",
   "metadata": {},
   "source": [
    "### Normalizing Data"
   ]
  },
  {
   "cell_type": "code",
   "execution_count": 37,
   "id": "562ce781-fb90-4966-b4a3-550207f0947b",
   "metadata": {},
   "outputs": [],
   "source": [
    "scaler = StandardScaler()"
   ]
  },
  {
   "cell_type": "code",
   "execution_count": 38,
   "id": "89573e7b-ed05-48fd-be3c-16ac477c3ddd",
   "metadata": {},
   "outputs": [],
   "source": [
    "X_train = scaler.fit_transform(X_train)\n",
    "X_test = scaler.transform(X_test)"
   ]
  },
  {
   "cell_type": "markdown",
   "id": "65eacb12-2ae2-471b-999b-4b15108f5c30",
   "metadata": {},
   "source": [
    "### Building Model"
   ]
  },
  {
   "cell_type": "code",
   "execution_count": 39,
   "id": "cb06c6d1-e7c0-429c-ab9e-fc3b34dbd20e",
   "metadata": {},
   "outputs": [],
   "source": [
    "logistic_model = LogisticRegression(solver='liblinear',C = 0.20,random_state=40)"
   ]
  },
  {
   "cell_type": "code",
   "execution_count": 40,
   "id": "342d6399-ad32-4448-b4f6-0a8abbaece94",
   "metadata": {},
   "outputs": [
    {
     "data": {
      "text/plain": [
       "LogisticRegression(C=0.2, random_state=40, solver='liblinear')"
      ]
     },
     "execution_count": 40,
     "metadata": {},
     "output_type": "execute_result"
    }
   ],
   "source": [
    "logistic_model.fit(X_train,y_train)"
   ]
  },
  {
   "cell_type": "markdown",
   "id": "607461bc-ad84-4cb2-88a9-da5270f8102a",
   "metadata": {},
   "source": [
    "### Predicting Class using Test Data"
   ]
  },
  {
   "cell_type": "code",
   "execution_count": 41,
   "id": "e0d59c45-9409-401d-aee1-382463258746",
   "metadata": {},
   "outputs": [],
   "source": [
    "y_pred = logistic_model.predict(X_test)"
   ]
  },
  {
   "cell_type": "markdown",
   "id": "4dc4447c-f4b8-4526-bb85-9c04d1d55c7a",
   "metadata": {},
   "source": [
    "### Probability of Churn "
   ]
  },
  {
   "cell_type": "markdown",
   "id": "c19f1e0d-cc67-4fd0-8bca-67c24709fd6c",
   "metadata": {},
   "source": [
    "**predict_proba** returns estimates for all classes, ordered by the label of classes. So, the first column is the probability of class 0, P(Y=0|X), and second column is probability of class 1, P(Y=1|X):"
   ]
  },
  {
   "cell_type": "code",
   "execution_count": 42,
   "id": "06e6a416-c6c0-4f90-a701-4ffd0de2a157",
   "metadata": {},
   "outputs": [],
   "source": [
    "y_pred_prob = logistic_model.predict_proba(X_test)"
   ]
  },
  {
   "cell_type": "code",
   "execution_count": 43,
   "id": "9510f6cf-5057-474c-a24b-3982394b5fc0",
   "metadata": {},
   "outputs": [
    {
     "data": {
      "text/html": [
       "<div>\n",
       "<style scoped>\n",
       "    .dataframe tbody tr th:only-of-type {\n",
       "        vertical-align: middle;\n",
       "    }\n",
       "\n",
       "    .dataframe tbody tr th {\n",
       "        vertical-align: top;\n",
       "    }\n",
       "\n",
       "    .dataframe thead th {\n",
       "        text-align: right;\n",
       "    }\n",
       "</style>\n",
       "<table border=\"1\" class=\"dataframe\">\n",
       "  <thead>\n",
       "    <tr style=\"text-align: right;\">\n",
       "      <th></th>\n",
       "      <th>Probability of Not Churn</th>\n",
       "      <th>Probability of Churn</th>\n",
       "    </tr>\n",
       "  </thead>\n",
       "  <tbody>\n",
       "    <tr>\n",
       "      <th>0</th>\n",
       "      <td>0.634501</td>\n",
       "      <td>0.365499</td>\n",
       "    </tr>\n",
       "    <tr>\n",
       "      <th>1</th>\n",
       "      <td>0.717655</td>\n",
       "      <td>0.282345</td>\n",
       "    </tr>\n",
       "    <tr>\n",
       "      <th>2</th>\n",
       "      <td>0.368756</td>\n",
       "      <td>0.631244</td>\n",
       "    </tr>\n",
       "    <tr>\n",
       "      <th>3</th>\n",
       "      <td>0.649074</td>\n",
       "      <td>0.350926</td>\n",
       "    </tr>\n",
       "    <tr>\n",
       "      <th>4</th>\n",
       "      <td>0.599218</td>\n",
       "      <td>0.400782</td>\n",
       "    </tr>\n",
       "  </tbody>\n",
       "</table>\n",
       "</div>"
      ],
      "text/plain": [
       "   Probability of Not Churn  Probability of Churn\n",
       "0                  0.634501              0.365499\n",
       "1                  0.717655              0.282345\n",
       "2                  0.368756              0.631244\n",
       "3                  0.649074              0.350926\n",
       "4                  0.599218              0.400782"
      ]
     },
     "execution_count": 43,
     "metadata": {},
     "output_type": "execute_result"
    }
   ],
   "source": [
    "pd.DataFrame(y_pred_prob,columns=['Probability of Not Churn','Probability of Churn']).head(5)"
   ]
  },
  {
   "cell_type": "markdown",
   "id": "ee2e5320-ddb1-4fa4-b5c0-7d1d21ee9386",
   "metadata": {},
   "source": [
    "### Evaluating Model "
   ]
  },
  {
   "cell_type": "markdown",
   "id": "d70c552a-ec89-4deb-bb89-f6ca58e73871",
   "metadata": {},
   "source": [
    "### Confusion Matrix"
   ]
  },
  {
   "cell_type": "code",
   "execution_count": 53,
   "id": "b9a1541d-722a-4897-ac5d-ef6d3b4159a2",
   "metadata": {},
   "outputs": [
    {
     "data": {
      "image/png": "[encoded data removed]",
      "text/plain": [
       "<Figure size 432x288 with 1 Axes>"
      ]
     },
     "metadata": {},
     "output_type": "display_data"
    }
   ],
   "source": [
    "sns.heatmap(confusion_matrix(y_test,y_pred,labels=[1,0]),annot=True,fmt='g',cbar=None,xticklabels=['Churn','Not Churn'],yticklabels=['Churn','Not Churn'],cmap='Blues')\n",
    "plt.yticks(rotation = 0)\n",
    "plt.title('Confusion Matrix')\n",
    "plt.ylabel('Actual Values')\n",
    "plt.xlabel('Predicted Values')\n",
    "plt.show()"
   ]
  },
  {
   "cell_type": "markdown",
   "id": "48453e4d-7457-410d-9e92-6d51aafed9e0",
   "metadata": {},
   "source": [
    "Based on the count of each section, we can calculate **accuracy**, **precision** , **recall** and **f1_score** of each label:\n",
    "​\n",
    "*   **Precision** is a measure of the accuracy provided that a class label has been predicted. It is defined by: precision = TP / (TP + FP)\n",
    "​\n",
    "*   **Recall** is the true positive rate. It is defined as: Recall =  TP / (TP + FN)\n",
    "​\n",
    "So, we can calculate the precision and recall of each class.\n",
    "​\n",
    "*   **F1 score:**\n",
    "Now we are in the position to calculate the F1 scores for each label based on the precision and recall of that label.\n",
    "​\n",
    "*   **Accuracy**\n",
    "Number of all correct predictions / All Predictions"
   ]
  },
  {
   "cell_type": "code",
   "execution_count": 54,
   "id": "af36d408-2e5a-48d2-80fc-7b1b0e6c729c",
   "metadata": {},
   "outputs": [],
   "source": [
    "precision = precision_score(y_test,y_pred)\n",
    "recall = recall_score(y_test,y_pred)\n",
    "f1 = f1_score(y_test,y_pred)\n",
    "accuracy = accuracy_score(y_test,y_pred)"
   ]
  },
  {
   "cell_type": "code",
   "execution_count": 55,
   "id": "a2ed5a43-6e85-437a-abcb-20233e11131e",
   "metadata": {},
   "outputs": [
    {
     "name": "stdout",
     "output_type": "stream",
     "text": [
      "Accuracy Score is 0.66 Precision Score is 0.64, Recall Score is ,0.37 and F1 Score is 0.47\n"
     ]
    }
   ],
   "source": [
    "print(f'Accuracy Score is {round(accuracy,2)} Precision Score is {round(precision,2)}, Recall Score is ,{round(recall,2)} and F1 Score is {round(f1,2)}')"
   ]
  },
  {
   "cell_type": "markdown",
   "id": "4d8a6c1a-aec9-416e-9e18-4bc7cd9e4aab",
   "metadata": {},
   "source": [
    "### Classification Report"
   ]
  },
  {
   "cell_type": "markdown",
   "id": "0da8ffcc-bcc2-43e7-ae6e-b9a4be5c6110",
   "metadata": {},
   "source": [
    "- We can also use classification report to see all in one using **classification report**"
   ]
  },
  {
   "cell_type": "code",
   "execution_count": 47,
   "id": "e23c14cc-7214-4253-9897-7a25f5ecf161",
   "metadata": {},
   "outputs": [
    {
     "name": "stdout",
     "output_type": "stream",
     "text": [
      "              precision    recall  f1-score   support\n",
      "\n",
      "           0       0.66      0.86      0.74       138\n",
      "           1       0.64      0.37      0.47        97\n",
      "\n",
      "    accuracy                           0.66       235\n",
      "   macro avg       0.65      0.61      0.61       235\n",
      "weighted avg       0.65      0.66      0.63       235\n",
      "\n"
     ]
    }
   ],
   "source": [
    "print(classification_report(y_test,y_pred))"
   ]
  },
  {
   "cell_type": "markdown",
   "id": "ef228b17-34b5-4150-83bf-ae496812a861",
   "metadata": {},
   "source": [
    "\n",
    "\n",
    "\n",
    "**Thank you**"
   ]
  },
  {
   "cell_type": "code",
   "execution_count": null,
   "id": "46d33f75-e9d3-4314-af83-3b23b0e3c592",
   "metadata": {},
   "outputs": [],
   "source": []
  },
  {
   "cell_type": "code",
   "execution_count": null,
   "id": "b18a5e5b-e4da-4363-9c43-ef2b6823c8a8",
   "metadata": {},
   "outputs": [],
   "source": []
  },
  {
   "cell_type": "code",
   "execution_count": null,
   "id": "7c3dc410-2bb9-4098-b8b5-97d459150841",
   "metadata": {},
   "outputs": [],
   "source": []
  }
 ],
 "metadata": {
  "kernelspec": {
   "display_name": "Python 3",
   "language": "python",
   "name": "python3"
  },
  "language_info": {
   "codemirror_mode": {
    "name": "ipython",
    "version": 3
   },
   "file_extension": ".py",
   "mimetype": "text/x-python",
   "name": "python",
   "nbconvert_exporter": "python",
   "pygments_lexer": "ipython3",
   "version": "3.8.8"
  }
 },
 "nbformat": 4,
 "nbformat_minor": 5
}
